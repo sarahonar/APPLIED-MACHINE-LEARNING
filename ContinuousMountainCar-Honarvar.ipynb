{
 "cells": [
  {
   "cell_type": "code",
   "execution_count": 1,
   "metadata": {
    "colab": {
     "base_uri": "https://localhost:8080/"
    },
    "id": "jCrSdVX7Fg5C",
    "outputId": "e6d5dbce-ed43-47f6-c843-2b66fae0df6c"
   },
   "outputs": [
    {
     "data": {
      "text/plain": [
       "[4372456113935194413]"
      ]
     },
     "execution_count": 1,
     "metadata": {
      "tags": []
     },
     "output_type": "execute_result"
    }
   ],
   "source": [
    "import gym\n",
    "import torch\n",
    "import torch.nn as nn\n",
    "import torch.nn.functional as F\n",
    "torch.manual_seed(4372456113935194413)\n",
    "from torch.distributions import Normal\n",
    "\n"
   ]
  },
  {
   "cell_type": "code",
   "execution_count": null,
   "metadata": {
    "id": "0BbQUz1QNwM7"
   },
   "outputs": [],
   "source": [
    "# pi = Variable(torch.FloatTensor([math.pi]))\n",
    "# def normal(x, mu, sigma_sq):\n",
    "#     a = (-1*(Variable(x)-mu).pow(2)/(2*sigma_sq)).exp()\n",
    "#     b = 1/(2*sigma_sq*pi.expand_as(sigma_sq)).sqrt()\n",
    "#     return a*b\n",
    "\n",
    "\n",
    "# class Policy(nn.Module):\n",
    "#     def __init__(self, hidden_size, num_inputs, action_space):\n",
    "#         super(Policy, self).__init__()\n",
    "#         self.action_space = action_space\n",
    "#         num_outputs = action_space.shape[0]\n",
    "\n",
    "    #     self.linear1 = torch.nn.Linear(num_inputs, hidden_size)\n",
    "    #     self.linear2 = torch.nn.Linear(hidden_size, num_outputs)\n",
    "    #     self.linear2_ = torch.nn.Linear(hidden_size, num_outputs)\n",
    "    #     # value network definition\n",
    "    #     self.value_fc1 = torch.nn.Linear(num_inputs, 32)\n",
    "    #     self.value_fc2 = torch.nn.Linear(32, 1)\n",
    "\n",
    "\n",
    "    # def forward(self, inputs):\n",
    "    #     x = inputs\n",
    "    #     x = torch.tanh(self.linear1(x))\n",
    "    #     mu = self.linear2(x)\n",
    "    #     sigma_sq = F.softplus(self.linear2_(x))\n",
    "    #     x2 = inputs\n",
    "    #     # x2 = F.elu(self.value_fc1(x2))\n",
    "    #     state_value = self.value_fc2(x2)\n",
    "    #     # return mu, sigma_sq\n",
    "    #     return mu, sigma_sq, state_value\n",
    "    # def select_action(self, inputs):\n",
    "    #   mu, sigma_sq, state_value = self.forward(inputs)\n",
    "    #   # mu, sigma_sq = self.model(Variable(state).cuda())\n",
    "    #   # sigma_sq = F.softplus(sigma_sq)\n",
    "\n",
    "      \n",
    "    #   # calculate the probability\n",
    "    #   eps = torch.randn(mu.size())\n",
    "    #     # calculate the probability\n",
    "    #   action = Normal(mu,sigma_sq).sample()\n",
    "    #   action = torch.clamp(action,-1,1)\n",
    "    #   prob   = normal(action, mu, sigma_sq)\n",
    "\n",
    "    #   log_prob = prob.log()\n",
    "    #   return action, log_prob, state_value\n",
    "      # return action, log_prob, entropy"
   ]
  },
  {
   "cell_type": "code",
   "execution_count": 2,
   "metadata": {
    "id": "N4v0Wy3BFwd-"
   },
   "outputs": [],
   "source": [
    "class ActorCritic(nn.Module):\n",
    "    def __init__(self, num_inputs, num_outputs, hidden_size):\n",
    "        super(ActorCritic, self).__init__()\n",
    "        # self.action_space = action_space\n",
    "        # num_outputs = action_space.shape[0]\n",
    "\n",
    "        self.fc = torch.nn.Linear(num_inputs, hidden_size)\n",
    "        self.mu = torch.nn.Linear(hidden_size, num_outputs)\n",
    "        self.sigma = torch.nn.Linear(hidden_size, num_outputs)\n",
    "        # value network definition\n",
    "        self.value = torch.nn.Linear(hidden_size, 1)\n",
    "        self.distribution = torch.distributions.Normal\n",
    "    def forward(self, x):\n",
    "        x = F.relu(self.fc(x))\n",
    "        mu = 2*torch.tanh(self.mu(x))\n",
    "        sigma = F.softplus(self.sigma(x))+1e-5\n",
    "        dist = self.distribution(mu.view(1, ).data, sigma.view(1, ))\n",
    "        state_value = self.value(x)\n",
    "        # return mu, sigma_sq\n",
    "        return dist, state_value\n",
    "        # return dist\n"
   ]
  },
  {
   "cell_type": "code",
   "execution_count": 3,
   "metadata": {
    "id": "isOan0z8F2rt"
   },
   "outputs": [],
   "source": [
    "class Policyestimator():\n",
    "  def __init__(self, num_state,num_action,hidden_size=50,lr=1e-4):\n",
    "    self.model = ActorCritic(num_state,num_action,hidden_size)\n",
    "    self.optimizer = torch.optim.Adam(self.model.parameters(),lr)\n",
    "  def predict(self,state):\n",
    "    self.model.training = False\n",
    "    return self.model(torch.Tensor(state))\n",
    "  def get_action(self,state):\n",
    "    dist,state_value = self.predict(state)\n",
    "    action = dist.sample().numpy()\n",
    "    log_prob = dist.log_prob(action[0])\n",
    "    return action, log_prob, state_value\n",
    "  def update(self, returns, log_probs,state_values):\n",
    "    p_losses=[]\n",
    "    v_losses=[]\n",
    "    policy_loss=0\n",
    "    value_loss=0\n",
    "    for a_log_prob, state_value, R in zip(log_probs, state_values, returns):\n",
    "      p_losses.append(-1 * a_log_prob * (R -state_value))\n",
    "      v_losses.append(torch.nn.functional.mse_loss(state_value, torch.tensor([R]), reduction='mean'))\n",
    "    \n",
    "\n",
    "    policy_loss = torch.stack(p_losses).sum()\n",
    "    value_loss =  torch.stack(v_losses).sum()\n",
    "    loss = policy_loss + value_loss\n",
    "    # loss = policy_loss\n",
    "    self.optimizer.zero_grad()\n",
    "    loss.backward()\n",
    "    self.optimizer.step()"
   ]
  },
  {
   "cell_type": "code",
   "execution_count": 4,
   "metadata": {
    "id": "QevmqgilMDnv"
   },
   "outputs": [],
   "source": [
    "def scale_state(state):\n",
    "  scaled = scaler.transform([state])\n",
    "  return scaled[0]"
   ]
  },
  {
   "cell_type": "code",
   "execution_count": 5,
   "metadata": {
    "id": "P-TgM7t4IcgY"
   },
   "outputs": [],
   "source": [
    "def actor_critic(env,Policy_estimator,num_episodes,gamma=1):\n",
    "  for episode in range (num_episodes):\n",
    "    log_probs =[]\n",
    "    rewards = []\n",
    "    state_values =[]\n",
    "    state = env.reset()\n",
    "    while True:\n",
    "      state = scale_state(state)\n",
    "      action, log_prob, state_value = Policy_estimator.get_action(state)\n",
    "      action = action.clip(env.action_space.low[0],env.action_space.high[0])\n",
    "      next_state, reward, is_done, _ = env.step(action)\n",
    "      total_reward_episode[episode]+=reward\n",
    "      log_probs.append(log_prob)\n",
    "      state_values.append(state_value)\n",
    "      rewards.append(reward)\n",
    "      if is_done:\n",
    "        returns = []\n",
    "        Gt = 0\n",
    "        pw = 0\n",
    "        for reward in rewards[::-1]:\n",
    "          Gt += gamma**pw*reward\n",
    "          pw += 1\n",
    "          returns.append(Gt)\n",
    "        returns = returns[::-1]\n",
    "        returns = torch.tensor(returns)\n",
    "        returns = (returns-returns.mean())/(returns.std()+1e-9)\n",
    "        Policy_estimator.update(returns, log_probs,state_values)\n",
    "        print('Episode:{},total reward:{}'.format(episode, total_reward_episode[episode]))\n",
    "        \n",
    "        break\n",
    "      state = next_state"
   ]
  },
  {
   "cell_type": "code",
   "execution_count": 6,
   "metadata": {
    "colab": {
     "base_uri": "https://localhost:8080/"
    },
    "id": "Nvqcv_TnLeOv",
    "outputId": "b0a94725-85d1-4361-a8cf-de7dc4bb6823"
   },
   "outputs": [
    {
     "data": {
      "text/plain": [
       "StandardScaler(copy=True, with_mean=True, with_std=True)"
      ]
     },
     "execution_count": 6,
     "metadata": {
      "tags": []
     },
     "output_type": "execute_result"
    }
   ],
   "source": [
    "import sklearn.preprocessing\n",
    "import numpy as np\n",
    "state_space_samples = np.array([env.observation_space.sample() for x in range(10000)])\n",
    "scaler = sklearn.preprocessing.StandardScaler()\n",
    "scaler.fit(state_space_samples)"
   ]
  },
  {
   "cell_type": "code",
   "execution_count": null,
   "metadata": {},
   "outputs": [],
   "source": [
    "env = gym.make(\"MountainCarContinuous-v0\")\n",
    "env.seed(4372456113935194413)"
   ]
  },
  {
   "cell_type": "code",
   "execution_count": 7,
   "metadata": {
    "colab": {
     "base_uri": "https://localhost:8080/"
    },
    "id": "4VraE7QfLm8J",
    "outputId": "d4868665-98c3-405d-958d-e36c2298824c"
   },
   "outputs": [
    {
     "data": {
      "text/plain": [
       "<__main__.Policyestimator at 0x7f4a280a5400>"
      ]
     },
     "execution_count": 7,
     "metadata": {
      "tags": []
     },
     "output_type": "execute_result"
    }
   ],
   "source": [
    "policy = Policyestimator(env.observation_space.shape[0], 1, 128, 0.0003)\n",
    "policy"
   ]
  },
  {
   "cell_type": "code",
   "execution_count": 8,
   "metadata": {
    "colab": {
     "base_uri": "https://localhost:8080/"
    },
    "id": "bnOJ0UHMM-WP",
    "outputId": "e974c413-45b7-4438-9ab2-52a9551ba239"
   },
   "outputs": [
    {
     "name": "stdout",
     "output_type": "stream",
     "text": [
      "Episode:0,total reward:-46.54430061392804\n",
      "Episode:1,total reward:-47.029960187453334\n",
      "Episode:2,total reward:76.45330016603187\n",
      "Episode:3,total reward:-46.87032996206048\n",
      "Episode:4,total reward:-45.46205850987077\n",
      "Episode:5,total reward:74.23744427851852\n",
      "Episode:6,total reward:-44.27752802801324\n",
      "Episode:7,total reward:-45.88671084926548\n",
      "Episode:8,total reward:-45.6751491447182\n",
      "Episode:9,total reward:64.01634667874174\n",
      "Episode:10,total reward:-45.23666621825414\n",
      "Episode:11,total reward:-46.59410551692348\n",
      "Episode:12,total reward:64.07247129092096\n",
      "Episode:13,total reward:-44.54010712188526\n",
      "Episode:14,total reward:-44.6790815999305\n",
      "Episode:15,total reward:-47.03308589355439\n",
      "Episode:16,total reward:-44.047983771337066\n",
      "Episode:17,total reward:58.020436880951245\n",
      "Episode:18,total reward:-43.23356011708446\n",
      "Episode:19,total reward:-47.152068676509245\n",
      "Episode:20,total reward:70.2297333313044\n",
      "Episode:21,total reward:-45.854000163685676\n",
      "Episode:22,total reward:74.98953663269853\n",
      "Episode:23,total reward:59.81914883126113\n",
      "Episode:24,total reward:-45.132888876601626\n",
      "Episode:25,total reward:-43.514359663069634\n",
      "Episode:26,total reward:-44.7487836111394\n",
      "Episode:27,total reward:68.73126877416772\n",
      "Episode:28,total reward:-43.858054129063014\n",
      "Episode:29,total reward:-46.379355783328144\n",
      "Episode:30,total reward:90.05062087557656\n",
      "Episode:31,total reward:63.318760822265226\n",
      "Episode:32,total reward:-43.21144069931054\n",
      "Episode:33,total reward:-44.92191600834058\n",
      "Episode:34,total reward:-47.169386578389314\n",
      "Episode:35,total reward:-44.21666853774627\n",
      "Episode:36,total reward:85.05464607928958\n",
      "Episode:37,total reward:-44.93195057285233\n",
      "Episode:38,total reward:-47.8798955319535\n",
      "Episode:39,total reward:-47.439939990207385\n",
      "Episode:40,total reward:-44.68167340006782\n",
      "Episode:41,total reward:-43.82389534865478\n",
      "Episode:42,total reward:56.644847229899405\n",
      "Episode:43,total reward:-45.014008906601276\n",
      "Episode:44,total reward:71.8609007352818\n",
      "Episode:45,total reward:-45.44020911613295\n",
      "Episode:46,total reward:-44.47573999035536\n",
      "Episode:47,total reward:-46.22518673693952\n",
      "Episode:48,total reward:-44.43938672469662\n",
      "Episode:49,total reward:-45.03701031260149\n",
      "Episode:50,total reward:-45.231334467703846\n",
      "Episode:51,total reward:-44.53788301689149\n",
      "Episode:52,total reward:82.26019420265462\n",
      "Episode:53,total reward:-45.57042176591091\n",
      "Episode:54,total reward:-45.28477573714329\n",
      "Episode:55,total reward:-45.20993890047255\n",
      "Episode:56,total reward:-44.23051496562795\n",
      "Episode:57,total reward:-45.623940000513706\n",
      "Episode:58,total reward:-44.56328014913705\n",
      "Episode:59,total reward:-42.42494444986433\n",
      "Episode:60,total reward:63.526615836426664\n",
      "Episode:61,total reward:-45.5438873108376\n",
      "Episode:62,total reward:-43.70103508109677\n",
      "Episode:63,total reward:-46.60476764124997\n",
      "Episode:64,total reward:-43.129785858621986\n",
      "Episode:65,total reward:-42.51348694866691\n",
      "Episode:66,total reward:-43.48896670896781\n",
      "Episode:67,total reward:-42.827733659990486\n",
      "Episode:68,total reward:-39.8692993508644\n",
      "Episode:69,total reward:-43.83706054294986\n",
      "Episode:70,total reward:-42.54782819183794\n",
      "Episode:71,total reward:-46.60585691073295\n",
      "Episode:72,total reward:-43.90719995893955\n",
      "Episode:73,total reward:77.0563415495406\n",
      "Episode:74,total reward:58.94296614300087\n",
      "Episode:75,total reward:-44.67094247176598\n",
      "Episode:76,total reward:-45.00350203018974\n",
      "Episode:77,total reward:60.18105942749939\n",
      "Episode:78,total reward:-43.459855289817376\n",
      "Episode:79,total reward:-44.76652094458697\n",
      "Episode:80,total reward:58.29921885581948\n",
      "Episode:81,total reward:-42.43174051967482\n",
      "Episode:82,total reward:-42.46909558000176\n",
      "Episode:83,total reward:-44.04427260226236\n",
      "Episode:84,total reward:-44.062791883724415\n",
      "Episode:85,total reward:-43.967313201709864\n",
      "Episode:86,total reward:-42.66590106564152\n",
      "Episode:87,total reward:-42.83266135288166\n",
      "Episode:88,total reward:-42.8985795009266\n",
      "Episode:89,total reward:-45.792073115009316\n",
      "Episode:90,total reward:-45.429356579851955\n",
      "Episode:91,total reward:57.62275343316549\n",
      "Episode:92,total reward:-46.549775283706154\n",
      "Episode:93,total reward:77.39447002581119\n",
      "Episode:94,total reward:-43.41614000263676\n",
      "Episode:95,total reward:-46.20224443014599\n",
      "Episode:96,total reward:69.1149521206475\n",
      "Episode:97,total reward:-45.259296814447296\n",
      "Episode:98,total reward:-44.033971558154654\n",
      "Episode:99,total reward:58.765049335968975\n",
      "Episode:100,total reward:-43.44411837888638\n",
      "Episode:101,total reward:-41.91374537161326\n",
      "Episode:102,total reward:-47.237259482577564\n",
      "Episode:103,total reward:-43.690927906590794\n",
      "Episode:104,total reward:-42.87443466873552\n",
      "Episode:105,total reward:-43.69790533171757\n",
      "Episode:106,total reward:-46.71500712284112\n",
      "Episode:107,total reward:-46.667037618825766\n",
      "Episode:108,total reward:-45.62887481427456\n",
      "Episode:109,total reward:-41.57254757942806\n",
      "Episode:110,total reward:-42.18436593344682\n",
      "Episode:111,total reward:-43.56228036267117\n",
      "Episode:112,total reward:59.49154500465645\n",
      "Episode:113,total reward:-44.49441863906505\n",
      "Episode:114,total reward:-43.393046803388714\n",
      "Episode:115,total reward:-44.531667311161286\n",
      "Episode:116,total reward:85.06442154169412\n",
      "Episode:117,total reward:-43.99009515773194\n",
      "Episode:118,total reward:-43.70934201550337\n",
      "Episode:119,total reward:80.9510800302104\n",
      "Episode:120,total reward:-43.91297658294636\n",
      "Episode:121,total reward:-45.92810118590696\n",
      "Episode:122,total reward:-42.076401301553084\n",
      "Episode:123,total reward:-44.46939643688624\n",
      "Episode:124,total reward:-44.050141788848414\n",
      "Episode:125,total reward:-43.40680224413694\n",
      "Episode:126,total reward:76.34764530966905\n",
      "Episode:127,total reward:76.93715717478365\n",
      "Episode:128,total reward:-44.05367546015528\n",
      "Episode:129,total reward:-45.11126421662592\n",
      "Episode:130,total reward:-42.25820756235278\n",
      "Episode:131,total reward:71.19069326991371\n",
      "Episode:132,total reward:-43.171858357380266\n",
      "Episode:133,total reward:-45.46406812122597\n",
      "Episode:134,total reward:-43.314707981690326\n",
      "Episode:135,total reward:-45.54119409744131\n",
      "Episode:136,total reward:-43.52762792155085\n",
      "Episode:137,total reward:-42.6860065585434\n",
      "Episode:138,total reward:-44.73321487242492\n",
      "Episode:139,total reward:-43.53041046789608\n",
      "Episode:140,total reward:-43.28385698796624\n",
      "Episode:141,total reward:-44.163539892720294\n",
      "Episode:142,total reward:-43.406108645435836\n",
      "Episode:143,total reward:-44.77927626652647\n",
      "Episode:144,total reward:76.395696915917\n",
      "Episode:145,total reward:-44.0866666342997\n",
      "Episode:146,total reward:-42.86707308591774\n",
      "Episode:147,total reward:-43.65618944799119\n",
      "Episode:148,total reward:-43.590451938930286\n",
      "Episode:149,total reward:-42.48499456151861\n",
      "Episode:150,total reward:62.83386710390028\n",
      "Episode:151,total reward:-42.886317605257304\n",
      "Episode:152,total reward:-42.101760744272646\n",
      "Episode:153,total reward:-45.262651997971034\n",
      "Episode:154,total reward:-43.60795507091062\n",
      "Episode:155,total reward:-41.96140951761452\n",
      "Episode:156,total reward:-45.05013185500956\n",
      "Episode:157,total reward:-45.407114893452125\n",
      "Episode:158,total reward:54.260584280413056\n",
      "Episode:159,total reward:-44.437616164520215\n",
      "Episode:160,total reward:-43.744658777062924\n",
      "Episode:161,total reward:-44.14823544875025\n",
      "Episode:162,total reward:-43.00733842308472\n",
      "Episode:163,total reward:-44.13723052909169\n",
      "Episode:164,total reward:-48.03931967211207\n",
      "Episode:165,total reward:80.6997228986302\n",
      "Episode:166,total reward:-44.41476121017176\n",
      "Episode:167,total reward:-44.37970875220752\n",
      "Episode:168,total reward:-43.5455239882198\n",
      "Episode:169,total reward:-44.01520921083908\n",
      "Episode:170,total reward:-44.775607122476\n",
      "Episode:171,total reward:-44.3692109261158\n",
      "Episode:172,total reward:-45.30490586707005\n",
      "Episode:173,total reward:-44.294797225373266\n",
      "Episode:174,total reward:-45.73559624454586\n",
      "Episode:175,total reward:-42.1296865713632\n",
      "Episode:176,total reward:-44.759018368415354\n",
      "Episode:177,total reward:-46.02894100031083\n",
      "Episode:178,total reward:-44.63083868067977\n",
      "Episode:179,total reward:75.34201419087256\n",
      "Episode:180,total reward:-44.208616681340594\n",
      "Episode:181,total reward:59.167992257429404\n",
      "Episode:182,total reward:-43.070214545147\n",
      "Episode:183,total reward:-44.07570207007926\n",
      "Episode:184,total reward:80.58426436649458\n",
      "Episode:185,total reward:-44.778589745877255\n",
      "Episode:186,total reward:57.63696871320409\n",
      "Episode:187,total reward:-43.664598989123256\n",
      "Episode:188,total reward:61.5468656194217\n",
      "Episode:189,total reward:67.7657210772619\n",
      "Episode:190,total reward:59.18692990944747\n",
      "Episode:191,total reward:-42.26776886058281\n",
      "Episode:192,total reward:-43.90778221109852\n",
      "Episode:193,total reward:-45.19357433600847\n",
      "Episode:194,total reward:80.42786345281549\n",
      "Episode:195,total reward:-44.4374098913263\n",
      "Episode:196,total reward:-43.59613746621046\n",
      "Episode:197,total reward:61.502351015746825\n",
      "Episode:198,total reward:-44.58825653026708\n",
      "Episode:199,total reward:-45.979704482775134\n"
     ]
    }
   ],
   "source": [
    "num_episode = 200\n",
    "gamma =0.9\n",
    "total_reward_episode = [0] * num_episode\n",
    "actor_critic(env, policy, num_episode, gamma)"
   ]
  },
  {
   "cell_type": "code",
   "execution_count": 9,
   "metadata": {
    "colab": {
     "base_uri": "https://localhost:8080/",
     "height": 279
    },
    "id": "Mw8t5mYPNnAc",
    "outputId": "d5c025cc-48c6-42b9-a682-a0c03c6a0a47"
   },
   "outputs": [
    {
     "data": {
      "image/png": "[encoded data removed]",
      "text/plain": [
       "<Figure size 432x288 with 1 Axes>"
      ]
     },
     "metadata": {
      "needs_background": "light",
      "tags": []
     },
     "output_type": "display_data"
    }
   ],
   "source": [
    "import matplotlib.pyplot as plt\n",
    "plt.plot(total_reward_episode)\n",
    "plt.xlabel('Episode')\n",
    "plt.ylabel('Total reward')\n",
    "plt.show()"
   ]
  },
  {
   "cell_type": "code",
   "execution_count": 9,
   "metadata": {
    "id": "gF87AI1DB9WV"
   },
   "outputs": [],
   "source": []
  },
  {
   "cell_type": "code",
   "execution_count": 10,
   "metadata": {
    "colab": {
     "base_uri": "https://localhost:8080/"
    },
    "id": "WEgOcIr2RGCc",
    "outputId": "6690925a-c684-45a9-baa0-ad2d96b865d3"
   },
   "outputs": [
    {
     "data": {
      "text/plain": [
       "[0]"
      ]
     },
     "execution_count": 10,
     "metadata": {
      "tags": []
     },
     "output_type": "execute_result"
    }
   ],
   "source": [
    "[0]"
   ]
  },
  {
   "cell_type": "code",
   "execution_count": 11,
   "metadata": {
    "colab": {
     "base_uri": "https://localhost:8080/"
    },
    "id": "wWM77OdtSO9H",
    "outputId": "35b498e6-0ac5-4e4d-ec3c-b8bdb09956f3"
   },
   "outputs": [
    {
     "data": {
      "text/plain": [
       "[-46.54430061392804,\n",
       " -47.029960187453334,\n",
       " 76.45330016603187,\n",
       " -46.87032996206048,\n",
       " -45.46205850987077,\n",
       " 74.23744427851852,\n",
       " -44.27752802801324,\n",
       " -45.88671084926548,\n",
       " -45.6751491447182,\n",
       " 64.01634667874174,\n",
       " -45.23666621825414,\n",
       " -46.59410551692348,\n",
       " 64.07247129092096,\n",
       " -44.54010712188526,\n",
       " -44.6790815999305,\n",
       " -47.03308589355439,\n",
       " -44.047983771337066,\n",
       " 58.020436880951245,\n",
       " -43.23356011708446,\n",
       " -47.152068676509245,\n",
       " 70.2297333313044,\n",
       " -45.854000163685676,\n",
       " 74.98953663269853,\n",
       " 59.81914883126113,\n",
       " -45.132888876601626,\n",
       " -43.514359663069634,\n",
       " -44.7487836111394,\n",
       " 68.73126877416772,\n",
       " -43.858054129063014,\n",
       " -46.379355783328144,\n",
       " 90.05062087557656,\n",
       " 63.318760822265226,\n",
       " -43.21144069931054,\n",
       " -44.92191600834058,\n",
       " -47.169386578389314,\n",
       " -44.21666853774627,\n",
       " 85.05464607928958,\n",
       " -44.93195057285233,\n",
       " -47.8798955319535,\n",
       " -47.439939990207385,\n",
       " -44.68167340006782,\n",
       " -43.82389534865478,\n",
       " 56.644847229899405,\n",
       " -45.014008906601276,\n",
       " 71.8609007352818,\n",
       " -45.44020911613295,\n",
       " -44.47573999035536,\n",
       " -46.22518673693952,\n",
       " -44.43938672469662,\n",
       " -45.03701031260149,\n",
       " -45.231334467703846,\n",
       " -44.53788301689149,\n",
       " 82.26019420265462,\n",
       " -45.57042176591091,\n",
       " -45.28477573714329,\n",
       " -45.20993890047255,\n",
       " -44.23051496562795,\n",
       " -45.623940000513706,\n",
       " -44.56328014913705,\n",
       " -42.42494444986433,\n",
       " 63.526615836426664,\n",
       " -45.5438873108376,\n",
       " -43.70103508109677,\n",
       " -46.60476764124997,\n",
       " -43.129785858621986,\n",
       " -42.51348694866691,\n",
       " -43.48896670896781,\n",
       " -42.827733659990486,\n",
       " -39.8692993508644,\n",
       " -43.83706054294986,\n",
       " -42.54782819183794,\n",
       " -46.60585691073295,\n",
       " -43.90719995893955,\n",
       " 77.0563415495406,\n",
       " 58.94296614300087,\n",
       " -44.67094247176598,\n",
       " -45.00350203018974,\n",
       " 60.18105942749939,\n",
       " -43.459855289817376,\n",
       " -44.76652094458697,\n",
       " 58.29921885581948,\n",
       " -42.43174051967482,\n",
       " -42.46909558000176,\n",
       " -44.04427260226236,\n",
       " -44.062791883724415,\n",
       " -43.967313201709864,\n",
       " -42.66590106564152,\n",
       " -42.83266135288166,\n",
       " -42.8985795009266,\n",
       " -45.792073115009316,\n",
       " -45.429356579851955,\n",
       " 57.62275343316549,\n",
       " -46.549775283706154,\n",
       " 77.39447002581119,\n",
       " -43.41614000263676,\n",
       " -46.20224443014599,\n",
       " 69.1149521206475,\n",
       " -45.259296814447296,\n",
       " -44.033971558154654,\n",
       " 58.765049335968975,\n",
       " -43.44411837888638,\n",
       " -41.91374537161326,\n",
       " -47.237259482577564,\n",
       " -43.690927906590794,\n",
       " -42.87443466873552,\n",
       " -43.69790533171757,\n",
       " -46.71500712284112,\n",
       " -46.667037618825766,\n",
       " -45.62887481427456,\n",
       " -41.57254757942806,\n",
       " -42.18436593344682,\n",
       " -43.56228036267117,\n",
       " 59.49154500465645,\n",
       " -44.49441863906505,\n",
       " -43.393046803388714,\n",
       " -44.531667311161286,\n",
       " 85.06442154169412,\n",
       " -43.99009515773194,\n",
       " -43.70934201550337,\n",
       " 80.9510800302104,\n",
       " -43.91297658294636,\n",
       " -45.92810118590696,\n",
       " -42.076401301553084,\n",
       " -44.46939643688624,\n",
       " -44.050141788848414,\n",
       " -43.40680224413694,\n",
       " 76.34764530966905,\n",
       " 76.93715717478365,\n",
       " -44.05367546015528,\n",
       " -45.11126421662592,\n",
       " -42.25820756235278,\n",
       " 71.19069326991371,\n",
       " -43.171858357380266,\n",
       " -45.46406812122597,\n",
       " -43.314707981690326,\n",
       " -45.54119409744131,\n",
       " -43.52762792155085,\n",
       " -42.6860065585434,\n",
       " -44.73321487242492,\n",
       " -43.53041046789608,\n",
       " -43.28385698796624,\n",
       " -44.163539892720294,\n",
       " -43.406108645435836,\n",
       " -44.77927626652647,\n",
       " 76.395696915917,\n",
       " -44.0866666342997,\n",
       " -42.86707308591774,\n",
       " -43.65618944799119,\n",
       " -43.590451938930286,\n",
       " -42.48499456151861,\n",
       " 62.83386710390028,\n",
       " -42.886317605257304,\n",
       " -42.101760744272646,\n",
       " -45.262651997971034,\n",
       " -43.60795507091062,\n",
       " -41.96140951761452,\n",
       " -45.05013185500956,\n",
       " -45.407114893452125,\n",
       " 54.260584280413056,\n",
       " -44.437616164520215,\n",
       " -43.744658777062924,\n",
       " -44.14823544875025,\n",
       " -43.00733842308472,\n",
       " -44.13723052909169,\n",
       " -48.03931967211207,\n",
       " 80.6997228986302,\n",
       " -44.41476121017176,\n",
       " -44.37970875220752,\n",
       " -43.5455239882198,\n",
       " -44.01520921083908,\n",
       " -44.775607122476,\n",
       " -44.3692109261158,\n",
       " -45.30490586707005,\n",
       " -44.294797225373266,\n",
       " -45.73559624454586,\n",
       " -42.1296865713632,\n",
       " -44.759018368415354,\n",
       " -46.02894100031083,\n",
       " -44.63083868067977,\n",
       " 75.34201419087256,\n",
       " -44.208616681340594,\n",
       " 59.167992257429404,\n",
       " -43.070214545147,\n",
       " -44.07570207007926,\n",
       " 80.58426436649458,\n",
       " -44.778589745877255,\n",
       " 57.63696871320409,\n",
       " -43.664598989123256,\n",
       " 61.5468656194217,\n",
       " 67.7657210772619,\n",
       " 59.18692990944747,\n",
       " -42.26776886058281,\n",
       " -43.90778221109852,\n",
       " -45.19357433600847,\n",
       " 80.42786345281549,\n",
       " -44.4374098913263,\n",
       " -43.59613746621046,\n",
       " 61.502351015746825,\n",
       " -44.58825653026708,\n",
       " -45.979704482775134]"
      ]
     },
     "execution_count": 11,
     "metadata": {
      "tags": []
     },
     "output_type": "execute_result"
    }
   ],
   "source": [
    "total_reward_episode\n"
   ]
  },
  {
   "cell_type": "code",
   "execution_count": 11,
   "metadata": {
    "id": "TlLe2H1tSRiS"
   },
   "outputs": [],
   "source": []
  }
 ],
 "metadata": {
  "colab": {
   "name": "newmountain.ipynb",
   "provenance": []
  },
  "kernelspec": {
   "display_name": "Python 3",
   "language": "python",
   "name": "python3"
  },
  "language_info": {
   "codemirror_mode": {
    "name": "ipython",
    "version": 3
   },
   "file_extension": ".py",
   "mimetype": "text/x-python",
   "name": "python",
   "nbconvert_exporter": "python",
   "pygments_lexer": "ipython3",
   "version": "3.7.9"
  }
 },
 "nbformat": 4,
 "nbformat_minor": 1
}
